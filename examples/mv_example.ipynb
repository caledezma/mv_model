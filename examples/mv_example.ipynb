{
 "cells": [
  {
   "cell_type": "markdown",
   "id": "75cb3df7",
   "metadata": {},
   "source": [
    "# Produce interactive plots to analyse action potential shapes"
   ]
  },
  {
   "cell_type": "markdown",
   "id": "89e1d45f",
   "metadata": {},
   "source": [
    "## Solve the differential equations for the Minimal Model\n",
    "\n",
    "The following code will solve the model and return all the variables required to inspect the results. You will need to set your desired number of cycles to simulate, the length of each cycle (stimulation happens at the beginning of the cycle) and the cell type to use for the model."
   ]
  },
  {
   "cell_type": "code",
   "execution_count": null,
   "id": "151bf017",
   "metadata": {},
   "outputs": [],
   "source": [
    "import matplotlib.pyplot as plt\n",
    "import pandas as pd\n",
    "import plotly.express as px\n",
    "import numpy as np\n",
    "\n",
    "from examples.utils import run_model\n",
    "from mv_model.utils import transform_u_to_ap\n",
    "\n",
    "NUM_CYCLES = 10\n",
    "CYCLE_LENGTH = 1000\n",
    "CELL_TYPE = 'epi'\n",
    "\n",
    "t, state_vars, currents = run_model(\n",
    "    num_cycles=NUM_CYCLES,\n",
    "    cycle_length=CYCLE_LENGTH,\n",
    "    cell_type=CELL_TYPE\n",
    ")\n",
    "action_potential = transform_u_to_ap(state_vars[:,0])\n",
    "all_data = pd.DataFrame({\n",
    "    \"t\": t,\n",
    "    \"action_potential\": action_potential,\n",
    "    \"v\": state_vars[:,1],\n",
    "    \"w\": state_vars[:,2],\n",
    "    \"s\": state_vars[:,3],\n",
    "    \"Jfi\": currents[:,0],\n",
    "    \"Jso\": currents[:,1],\n",
    "    \"Jsi\": currents[:,2],\n",
    "    \"Jstim\": currents[:,3],\n",
    "})\n"
   ]
  },
  {
   "cell_type": "markdown",
   "id": "19ba717e",
   "metadata": {},
   "source": [
    "## Observe the resulting AP signal"
   ]
  },
  {
   "cell_type": "code",
   "execution_count": null,
   "id": "cd1351ac",
   "metadata": {},
   "outputs": [],
   "source": [
    "px.line(all_data, x=\"t\", y=\"action_potential\")"
   ]
  },
  {
   "cell_type": "code",
   "execution_count": null,
   "id": "c606bb8a",
   "metadata": {},
   "outputs": [],
   "source": []
  }
 ],
 "metadata": {
  "kernelspec": {
   "display_name": "math-models-venv",
   "language": "python",
   "name": "math-models-venv"
  },
  "language_info": {
   "codemirror_mode": {
    "name": "ipython",
    "version": 3
   },
   "file_extension": ".py",
   "mimetype": "text/x-python",
   "name": "python",
   "nbconvert_exporter": "python",
   "pygments_lexer": "ipython3",
   "version": "3.9.1"
  }
 },
 "nbformat": 4,
 "nbformat_minor": 5
}
